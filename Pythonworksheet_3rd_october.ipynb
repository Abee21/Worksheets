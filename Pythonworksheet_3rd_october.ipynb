{
  "nbformat": 4,
  "nbformat_minor": 0,
  "metadata": {
    "colab": {
      "name": "Pythonworksheet 3rd october.ipynb",
      "provenance": []
    },
    "kernelspec": {
      "name": "python3",
      "display_name": "Python 3"
    }
  },
  "cells": [
    {
      "cell_type": "markdown",
      "metadata": {
        "id": "sO-eqkQmocEU"
      },
      "source": [
        "Solution 11"
      ]
    },
    {
      "cell_type": "code",
      "metadata": {
        "id": "9L6Y4vO2h1oZ",
        "outputId": "a48465d9-89db-4dcb-b101-8379ca0a83ea",
        "colab": {
          "base_uri": "https://localhost:8080/",
          "height": 33
        }
      },
      "source": [
        "# Python program to find the factorial of a number provided by the user.\n",
        "\n",
        "# change the value for a different result\n",
        "num = 3\n",
        "\n",
        "# To take input from the user\n",
        "#num = int(input(\"Enter a number: \"))\n",
        "\n",
        "factorial = 1\n",
        "\n",
        "# check if the number is negative, positive or zero\n",
        "if num < 0:\n",
        "   print(\"Sorry, factorial does not exist for negative numbers\")\n",
        "elif num == 0:\n",
        "   print(\"The factorial of 0 is 1\")\n",
        "else:\n",
        "   for i in range(1,num + 1):\n",
        "       factorial = factorial*i\n",
        "   print(\"The factorial of\",num,\"is\",factorial)"
      ],
      "execution_count": null,
      "outputs": [
        {
          "output_type": "stream",
          "text": [
            "The factorial of 3 is 6\n"
          ],
          "name": "stdout"
        }
      ]
    },
    {
      "cell_type": "markdown",
      "metadata": {
        "id": "smmt0tsCkwHh"
      },
      "source": [
        "Solution 12-"
      ]
    },
    {
      "cell_type": "code",
      "metadata": {
        "id": "YgqKET6EkcvP",
        "outputId": "f8ad4442-7046-4ff0-8413-e15b48af796b",
        "colab": {
          "base_uri": "https://localhost:8080/",
          "height": 50
        }
      },
      "source": [
        "import math\n",
        "\n",
        "n = int(input())\n",
        "\n",
        "if n < 2:\n",
        "    print(\"A number must be 2 and more\")\n",
        "    quit()\n",
        "elif n == 2:\n",
        "    print(\"It's prime number\")\n",
        "    quit()\n",
        "\n",
        "i = 2\n",
        "limit = int(math.sqrt(n))\n",
        "\n",
        "while i <= limit:\n",
        "    if n % i == 0:\n",
        "        print(\"This is composite number\")\n",
        "        quit()\n",
        "    i += 1\n",
        "\n",
        "print(\"It's prime number\")"
      ],
      "execution_count": null,
      "outputs": [
        {
          "output_type": "stream",
          "text": [
            "5\n",
            "It's prime number\n"
          ],
          "name": "stdout"
        }
      ]
    },
    {
      "cell_type": "markdown",
      "metadata": {
        "id": "APQ1Nm5ilSDG"
      },
      "source": [
        "Solution -13"
      ]
    },
    {
      "cell_type": "code",
      "metadata": {
        "id": "v3VKtmuOlAsR",
        "outputId": "69f3eba6-f778-4cda-ed94-f2e81a403f50",
        "colab": {
          "base_uri": "https://localhost:8080/",
          "height": 50
        }
      },
      "source": [
        "num=int(input(\"Enter a number:\"))\n",
        "temp=num\n",
        "rev=0\n",
        "while(num>0):\n",
        "    dig=num%10\n",
        "    rev=rev*10+dig\n",
        "    num=num//10\n",
        "if(temp==rev):\n",
        "    print(\"The number is palindrome!\")\n",
        "else:\n",
        "    print(\"Not a palindrome!\")"
      ],
      "execution_count": null,
      "outputs": [
        {
          "output_type": "stream",
          "text": [
            "Enter a number:6\n",
            "The number is palindrome!\n"
          ],
          "name": "stdout"
        }
      ]
    },
    {
      "cell_type": "markdown",
      "metadata": {
        "id": "lkLCaxLUl5u-"
      },
      "source": [
        "Solution -14"
      ]
    },
    {
      "cell_type": "code",
      "metadata": {
        "id": "Khdp541ylOxd",
        "outputId": "4b12104a-5bef-4e05-8a1e-2e14c7fdd33b",
        "colab": {
          "base_uri": "https://localhost:8080/",
          "height": 115
        }
      },
      "source": [
        "# Python Program to find Area of a Right Angled Triangle\n",
        "import math\n",
        "\n",
        "width = float(input('Please Enter the Width of a Right Angled Triangle: '))\n",
        "height = float(input('Please Enter the Height of a Right Angled Triangle: '))\n",
        "\n",
        "# calculate the area\n",
        "Area = 0.5 * width * height\n",
        "\n",
        "# calculate the Third Side\n",
        "c = math.sqrt((width*width) + (height*height))\n",
        "\n",
        "# calculate the Perimeter\n",
        "Perimeter = width + height + c\n",
        "\n",
        "print(\"\\n Area of a right angled triangle is: %.2f\" %Area)\n",
        "print(\" Other side of right angled triangle is: %.2f\" %c)\n",
        "print(\" Perimeter of right angled triangle is: %.2f\" %Perimeter)"
      ],
      "execution_count": null,
      "outputs": [
        {
          "output_type": "stream",
          "text": [
            "Please Enter the Width of a Right Angled Triangle: 5\n",
            "Please Enter the Height of a Right Angled Triangle: 6\n",
            "\n",
            " Area of a right angled triangle is: 15.00\n",
            " Other side of right angled triangle is: 7.81\n",
            " Perimeter of right angled triangle is: 18.81\n"
          ],
          "name": "stdout"
        }
      ]
    },
    {
      "cell_type": "markdown",
      "metadata": {
        "id": "EcR6_9dGnjLS"
      },
      "source": [
        "solution 15"
      ]
    },
    {
      "cell_type": "code",
      "metadata": {
        "id": "BRdUyLzTl0--",
        "outputId": "85f46f25-9e62-4b03-e81b-27dd28c9a688",
        "colab": {
          "base_uri": "https://localhost:8080/",
          "height": 66
        }
      },
      "source": [
        "from collections import Counter\n",
        "\n",
        "strA = \"datascience\"\n",
        "print(\"Given String: \",strA)\n",
        "# Using counter\n",
        "res = {}\n",
        "\n",
        "res={n: strA.count(n) for n in set(strA)}\n",
        "\n",
        "# Result\n",
        "print(\"Frequency of each character :\\n \",res)\n",
        "\n"
      ],
      "execution_count": null,
      "outputs": [
        {
          "output_type": "stream",
          "text": [
            "Given String:  datascience\n",
            "Frequency of each character :\n",
            "  {'a': 2, 't': 1, 'c': 2, 'd': 1, 's': 1, 'n': 1, 'i': 1, 'e': 2}\n"
          ],
          "name": "stdout"
        }
      ]
    },
    {
      "cell_type": "code",
      "metadata": {
        "id": "C3Qg0edUmNkw"
      },
      "source": [
        ""
      ],
      "execution_count": null,
      "outputs": []
    }
  ]
}