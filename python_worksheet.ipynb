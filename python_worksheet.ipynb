{
  "nbformat": 4,
  "nbformat_minor": 0,
  "metadata": {
    "colab": {
      "name": "python worksheet.ipynb",
      "provenance": []
    },
    "kernelspec": {
      "name": "python3",
      "display_name": "Python 3"
    }
  },
  "cells": [
    {
      "cell_type": "markdown",
      "metadata": {
        "id": "kVEltEsVTJDI",
        "colab_type": "text"
      },
      "source": [
        "solution 15 from python worksheet-  \n",
        "\n",
        "** Sum of first ‘n’ natural numbers without using any loop**"
      ]
    },
    {
      "cell_type": "code",
      "metadata": {
        "id": "fNJC-w5FS4Jo",
        "colab_type": "code",
        "colab": {
          "base_uri": "https://localhost:8080/",
          "height": 50
        },
        "outputId": "ce89d803-1200-45f6-afb6-41f660c3e79a"
      },
      "source": [
        "def sum_of_n_natural_numbers(num):\n",
        "    if(num == 0):\n",
        "        return num\n",
        "    else:\n",
        "        return (num * (num + 1) / 2)\n",
        "    \n",
        "number = int(input(\" Enter any Number: \"))\n",
        "\n",
        "total_value = sum_of_n_natural_numbers(number)\n",
        "\n",
        "print(\"Sum of Natural Numbers from 1 to {0} =  {1}\".format(number, total_value))"
      ],
      "execution_count": null,
      "outputs": [
        {
          "output_type": "stream",
          "text": [
            " Enter any Number: 8\n",
            "Sum of Natural Numbers from 1 to 8 =  36.0\n"
          ],
          "name": "stdout"
        }
      ]
    },
    {
      "cell_type": "markdown",
      "metadata": {
        "id": "87RxxX7UY6vG",
        "colab_type": "text"
      },
      "source": [
        "Answer 14"
      ]
    },
    {
      "cell_type": "code",
      "metadata": {
        "id": "d9N45xQRTvKf",
        "colab_type": "code",
        "colab": {
          "base_uri": "https://localhost:8080/",
          "height": 82
        },
        "outputId": "2f07fd2c-808c-47a6-b3ea-e11b3813107b"
      },
      "source": [
        " import cmath  \n",
        " from math import sqrt\n",
        "A = float(input('Enter A: '))  \n",
        "B = float(input('Enter B: '))  \n",
        "C = float(input('Enter C: '))  \n",
        "\n",
        "# calculate the discriminant  \n",
        "D = (B**2) - (4*A*C)  \n",
        "  \n",
        "# find two solutions  \n",
        "Ans1 = (-B-cmath.sqrt(D))/(2*A)  \n",
        "Ans2 = (-B+cmath.sqrt(D))/(2*A)  \n",
        "print('The solution are {0} and {1}'.format(Ans1,Ans2))   \n"
      ],
      "execution_count": 1,
      "outputs": [
        {
          "output_type": "stream",
          "text": [
            "Enter A: 2\n",
            "Enter B: 3\n",
            "Enter C: 2\n",
            "The solution are (-0.75-0.6614378277661477j) and (-0.75+0.6614378277661477j)\n"
          ],
          "name": "stdout"
        }
      ]
    },
    {
      "cell_type": "code",
      "metadata": {
        "id": "BFEEKQSKT84X",
        "colab_type": "code",
        "colab": {}
      },
      "source": [
        "2\n"
      ],
      "execution_count": null,
      "outputs": []
    }
  ]
}