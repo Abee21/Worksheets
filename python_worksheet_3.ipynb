{
  "nbformat": 4,
  "nbformat_minor": 0,
  "metadata": {
    "colab": {
      "name": "python worksheet 3.ipynb",
      "provenance": []
    },
    "kernelspec": {
      "name": "python3",
      "display_name": "Python 3"
    }
  },
  "cells": [
    {
      "cell_type": "markdown",
      "metadata": {
        "id": "GffzSygtkeP3"
      },
      "source": [
        "Sol 13"
      ]
    },
    {
      "cell_type": "code",
      "metadata": {
        "id": "AoSQZn1QgSqa",
        "outputId": "66f03240-17c6-479d-a8d8-db214119e991",
        "colab": {
          "base_uri": "https://localhost:8080/",
          "height": 102
        }
      },
      "source": [
        "\n",
        "def printPascal(n) : \n",
        "\t\n",
        "\t# Iterate through every line \n",
        "\t# and print entries in it \n",
        "\tfor line in range(0, n) : \n",
        "\t\t\n",
        "\t\t# Every line has number of \n",
        "\t\t# integers equal to line \n",
        "\t\t# number \n",
        "\t\tfor i in range(0, line + 1) : \n",
        "\t\t\tprint(binomialCoeff(line, i), \n",
        "\t\t\t\t\" \", end = \"\") \n",
        "\t\tprint() \n",
        "\t\n",
        "\n",
        "\n",
        "def binomialCoeff(n, k) : \n",
        "\tres = 1\n",
        "\tif (k > n - k) : \n",
        "\t\tk = n - k \n",
        "\tfor i in range(0 , k) : \n",
        "\t\tres = res * (n - i) \n",
        "\t\tres = res // (i + 1) \n",
        "\t\n",
        "\treturn res \n",
        "\n",
        "# Driver program \n",
        "n = 5\n",
        "printPascal(n) \n",
        "\n",
        "\n"
      ],
      "execution_count": 15,
      "outputs": [
        {
          "output_type": "stream",
          "text": [
            "1  \n",
            "1  1  \n",
            "1  2  1  \n",
            "1  3  3  1  \n",
            "1  4  6  4  1  \n"
          ],
          "name": "stdout"
        }
      ]
    },
    {
      "cell_type": "markdown",
      "metadata": {
        "id": "ych-MCXfkir3"
      },
      "source": [
        "Sol 14"
      ]
    },
    {
      "cell_type": "code",
      "metadata": {
        "id": "PVmwMK8IiLvA",
        "outputId": "75dd34a5-ebf7-44d7-a987-ddb29e92fab6",
        "colab": {
          "base_uri": "https://localhost:8080/",
          "height": 170
        }
      },
      "source": [
        "\n",
        "def Diamond(rows): \n",
        "\tn = 0\n",
        "\tfor i in range(1, rows + 1): \n",
        "\t\t# loop to print spaces \n",
        "\t\tfor j in range (1, (rows - i) + 1): \n",
        "\t\t\tprint(end = \" \") \n",
        "\t\t\n",
        "\t\t# loop to print star \n",
        "\t\twhile n != (2 * i - 1): \n",
        "\t\t\tprint(\"*\", end = \"\") \n",
        "\t\t\tn = n + 1\n",
        "\t\tn = 0\n",
        "\t\t\n",
        "\t\t# line break \n",
        "\t\tprint() \n",
        "\n",
        "\tk = 1\n",
        "\tn = 1\n",
        "\tfor i in range(1, rows): \n",
        "\t\t# loop to print spaces \n",
        "\t\tfor j in range (1, k + 1): \n",
        "\t\t\tprint(end = \" \") \n",
        "\t\tk = k + 1\n",
        "\t\t\n",
        "\t\t# loop to print star \n",
        "\t\twhile n <= (2 * (rows - i) - 1): \n",
        "\t\t\tprint(\"*\", end = \"\") \n",
        "\t\t\tn = n + 1\n",
        "\t\tn = 1\n",
        "\t\tprint() \n",
        "\n",
        "# Driver Code \n",
        "# number of rows input \n",
        "rows = 5\n",
        "Diamond(rows) \n"
      ],
      "execution_count": 16,
      "outputs": [
        {
          "output_type": "stream",
          "text": [
            "    *\n",
            "   ***\n",
            "  *****\n",
            " *******\n",
            "*********\n",
            " *******\n",
            "  *****\n",
            "   ***\n",
            "    *\n"
          ],
          "name": "stdout"
        }
      ]
    },
    {
      "cell_type": "code",
      "metadata": {
        "id": "uI7S2Z2Wi29W"
      },
      "source": [
        ""
      ],
      "execution_count": null,
      "outputs": []
    }
  ]
}